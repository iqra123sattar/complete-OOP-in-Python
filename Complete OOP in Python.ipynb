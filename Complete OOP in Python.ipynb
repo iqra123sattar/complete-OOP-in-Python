{
 "cells": [
  {
   "cell_type": "markdown",
   "id": "f640a0a0",
   "metadata": {},
   "source": [
    "# Instance veriable:"
   ]
  },
  {
   "cell_type": "code",
   "execution_count": 2,
   "id": "207f9382",
   "metadata": {},
   "outputs": [],
   "source": [
    "#Instance Variables are variables that belong to an object.\n",
    "class Date: \n",
    "    #settter\n",
    "    def setDate(self,d,m,y):\n",
    "        self.day,self.month,self.year = d,m,y \n",
    "#validation\n",
    "d=Date()\n",
    "d.setDate(1,2,2000)"
   ]
  },
  {
   "cell_type": "code",
   "execution_count": 10,
   "id": "ff355254",
   "metadata": {},
   "outputs": [
    {
     "data": {
      "text/plain": [
       "1"
      ]
     },
     "execution_count": 10,
     "metadata": {},
     "output_type": "execute_result"
    }
   ],
   "source": [
    "d.day"
   ]
  },
  {
   "cell_type": "code",
   "execution_count": 11,
   "id": "8c5036f0",
   "metadata": {},
   "outputs": [
    {
     "data": {
      "text/plain": [
       "2"
      ]
     },
     "execution_count": 11,
     "metadata": {},
     "output_type": "execute_result"
    }
   ],
   "source": [
    "d.month"
   ]
  },
  {
   "cell_type": "code",
   "execution_count": 12,
   "id": "033a9604",
   "metadata": {},
   "outputs": [
    {
     "data": {
      "text/plain": [
       "2000"
      ]
     },
     "execution_count": 12,
     "metadata": {},
     "output_type": "execute_result"
    }
   ],
   "source": [
    "d.year"
   ]
  },
  {
   "cell_type": "markdown",
   "id": "e4279294",
   "metadata": {},
   "source": [
    "# Instance Method:"
   ]
  },
  {
   "cell_type": "code",
   "execution_count": 3,
   "id": "35fbc17b",
   "metadata": {},
   "outputs": [
    {
     "name": "stdout",
     "output_type": "stream",
     "text": [
      "1-2-2000\n"
     ]
    }
   ],
   "source": [
    "class Date:\n",
    "    #settatr method\n",
    "    def setDate(self,d,m,y):\n",
    "        self.day, self.month, self.year = d,m,y\n",
    "    #gettatr method\n",
    "    def getDay(self):\n",
    "        return self.day\n",
    "    def getMonth(self):\n",
    "        return self.month\n",
    "    def getYear(self): \n",
    "        return self.year\n",
    "#validation   \n",
    "d = Date()\n",
    "d.setDate(1,2,2000)\n",
    "print(\"{}-{}-{}\".format(d.getDay(),d.getMonth(),d.getYear()))\n"
   ]
  },
  {
   "cell_type": "markdown",
   "id": "0001b73a",
   "metadata": {},
   "source": [
    "# Encapsulation:"
   ]
  },
  {
   "cell_type": "code",
   "execution_count": 17,
   "id": "8cc30508",
   "metadata": {},
   "outputs": [],
   "source": [
    "class Date:\n",
    "    #setter method\n",
    "    def setDate(self,d,m,y):\n",
    "        self.day, self.month, self.year = d,m,y\n",
    "    #getattr method\n",
    "    def getDay(self):\n",
    "        return self.day\n",
    "    def getMonth(self):\n",
    "        return self.month\n",
    "    def getYear(self): \n",
    "        return self.year\n",
    "    def print(self):\n",
    "        print(\"{},{},{}\".format (self.getDay(), self.getMonth(), self.getYear()))\n",
    "#validation      \n",
    "d = Date() \n",
    "d.setDate(3,7,2010)"
   ]
  },
  {
   "cell_type": "code",
   "execution_count": 18,
   "id": "07755581",
   "metadata": {},
   "outputs": [
    {
     "name": "stdout",
     "output_type": "stream",
     "text": [
      "3,7,2010\n"
     ]
    }
   ],
   "source": [
    "d.print()"
   ]
  },
  {
   "cell_type": "code",
   "execution_count": 24,
   "id": "440d3d38",
   "metadata": {},
   "outputs": [
    {
     "data": {
      "text/plain": [
       "7"
      ]
     },
     "execution_count": 24,
     "metadata": {},
     "output_type": "execute_result"
    }
   ],
   "source": [
    "d.getMonth()"
   ]
  },
  {
   "cell_type": "code",
   "execution_count": 25,
   "id": "0911fc5e",
   "metadata": {},
   "outputs": [
    {
     "data": {
      "text/plain": [
       "2010"
      ]
     },
     "execution_count": 25,
     "metadata": {},
     "output_type": "execute_result"
    }
   ],
   "source": [
    "d.getYear()"
   ]
  },
  {
   "cell_type": "code",
   "execution_count": 23,
   "id": "3767e415",
   "metadata": {},
   "outputs": [],
   "source": [
    "class Date: \n",
    "    \n",
    "    # setter\n",
    "    def setDate(self,d,m,y): \n",
    "        \n",
    "        if self.isValid(d,m,y)==True:            \n",
    "            self.day,self.month,self.year = d,m,y\n",
    "        else:            \n",
    "            print(\"Invalid date!\") \n",
    "    \n",
    "    # getters\n",
    "    \n",
    "    def getDay(self): return self.day \n",
    "    def getMonth(self): return self.month \n",
    "    def getYear(self): return self.year\n",
    "    \n",
    "    def print(self): \n",
    "        print(\"{}-{}-{}\".format(self.getDay(),self.getMonth(),self.getYear()))\n",
    "    \n",
    "    \n",
    "    # validation\n",
    "    \n",
    "    def isValid(self,d,m,y):\n",
    "        \n",
    "        \n",
    "        if y<1 or y>9999:\n",
    "            return False\n",
    "        \n",
    "        if m<1 or m>12:\n",
    "            return False\n",
    "        \n",
    "        daysInMonth=[0,31,28,31,30,31,30,31,31,30,31,30,31]\n",
    "        \n",
    "        if self.isLeap(y):\n",
    "            DaysInMonth[2]=29\n",
    "        if d<1 or d>daysInMonth[m]:\n",
    "            return False\n",
    "        return True\n",
    "    \n",
    "    \n",
    "        \n",
    "    def isLeap(self,y):\n",
    "        return y%4==0 and (not y%100==0 or y%400==0)\n",
    "        \n",
    "    def addDays(self,days):\n",
    "        d,m,y = self.day,self.month,self.year\n",
    "        daysInMonth=[0,31,28,31,30,31,30,31,31,30,31,30,31]\n",
    "        if self.isLeap(y): daysInMonth[2]=29 \n",
    "            \n",
    "            \n",
    "        for i in range(days):\n",
    "                           \n",
    "            d=d+1 \n",
    "            if d>daysInMonth[m]:\n",
    "                d=1 \n",
    "                m=m+1 \n",
    "                if m>12:\n",
    "                    m=1 \n",
    "                    y=y+1 \n",
    "                    if self.isLeap(y): daysInMonth[2]=29 \n",
    "                    else:\n",
    "                        daysInMonth[2]=28  \n",
    "\n",
    "        result = Date() \n",
    "        result.setDate(d,m,y) \n",
    "        return result \n",
    "\n",
    "\n",
    "   "
   ]
  },
  {
   "cell_type": "code",
   "execution_count": 24,
   "id": "bfb7f23d",
   "metadata": {},
   "outputs": [],
   "source": [
    "d=Date()"
   ]
  },
  {
   "cell_type": "code",
   "execution_count": 25,
   "id": "07893f28",
   "metadata": {},
   "outputs": [],
   "source": [
    "d.setDate(12,12,2022)"
   ]
  },
  {
   "cell_type": "code",
   "execution_count": 26,
   "id": "0709ca42",
   "metadata": {},
   "outputs": [
    {
     "name": "stdout",
     "output_type": "stream",
     "text": [
      "12-12-2022\n"
     ]
    }
   ],
   "source": [
    "d.print()"
   ]
  },
  {
   "cell_type": "code",
   "execution_count": 27,
   "id": "31ef1b19",
   "metadata": {},
   "outputs": [],
   "source": [
    "new=d.addDays(3)"
   ]
  },
  {
   "cell_type": "code",
   "execution_count": 28,
   "id": "4b0defc5",
   "metadata": {},
   "outputs": [
    {
     "name": "stdout",
     "output_type": "stream",
     "text": [
      "15-12-2022\n"
     ]
    }
   ],
   "source": [
    "new.print()"
   ]
  },
  {
   "cell_type": "code",
   "execution_count": 29,
   "id": "746c6e80",
   "metadata": {},
   "outputs": [
    {
     "data": {
      "text/plain": [
       "True"
      ]
     },
     "execution_count": 29,
     "metadata": {},
     "output_type": "execute_result"
    }
   ],
   "source": [
    "d.isLeap(2020)"
   ]
  },
  {
   "cell_type": "code",
   "execution_count": 30,
   "id": "be1ccb4e",
   "metadata": {},
   "outputs": [
    {
     "data": {
      "text/plain": [
       "12"
      ]
     },
     "execution_count": 30,
     "metadata": {},
     "output_type": "execute_result"
    }
   ],
   "source": [
    "d.getMonth()"
   ]
  },
  {
   "cell_type": "code",
   "execution_count": 31,
   "id": "0c56c38e",
   "metadata": {},
   "outputs": [
    {
     "data": {
      "text/plain": [
       "2022"
      ]
     },
     "execution_count": 31,
     "metadata": {},
     "output_type": "execute_result"
    }
   ],
   "source": [
    "d.getYear()"
   ]
  },
  {
   "cell_type": "markdown",
   "id": "c313667a",
   "metadata": {},
   "source": [
    "# Access specifier or access modifier:"
   ]
  },
  {
   "cell_type": "code",
   "execution_count": 57,
   "id": "a0af2709",
   "metadata": {},
   "outputs": [],
   "source": [
    "#Inheritance Demo\n",
    "# Public, Private and Protected Method access \n",
    "class A:\n",
    "    def __f1(self): print(\"A.f1\")\n",
    "    def f2(self): print(\"A.f2\")\n",
    "    def _f3(self): print(\"A.f3\") \n",
    "class B(A):\n",
    "    def __g1(self): print(\"B.g1\")\n",
    "    def g2(self): print(\"B.g2\")\n",
    "    def _g3(self): print(\"B.g3\")"
   ]
  },
  {
   "cell_type": "code",
   "execution_count": 58,
   "id": "42955c10",
   "metadata": {},
   "outputs": [],
   "source": [
    "a=A()"
   ]
  },
  {
   "cell_type": "code",
   "execution_count": 59,
   "id": "4a177683",
   "metadata": {},
   "outputs": [
    {
     "data": {
      "text/plain": [
       "<bound method A.f2 of <__main__.A object at 0x0000020ED12D4B20>>"
      ]
     },
     "execution_count": 59,
     "metadata": {},
     "output_type": "execute_result"
    }
   ],
   "source": [
    "a.f2"
   ]
  },
  {
   "cell_type": "code",
   "execution_count": 60,
   "id": "826ecf11",
   "metadata": {},
   "outputs": [
    {
     "data": {
      "text/plain": [
       "<bound method A.__f1 of <__main__.A object at 0x0000020ED12D4B20>>"
      ]
     },
     "execution_count": 60,
     "metadata": {},
     "output_type": "execute_result"
    }
   ],
   "source": [
    "a._A__f1"
   ]
  },
  {
   "cell_type": "code",
   "execution_count": 61,
   "id": "c14b45e7",
   "metadata": {},
   "outputs": [],
   "source": [
    "b=B()"
   ]
  },
  {
   "cell_type": "code",
   "execution_count": 63,
   "id": "d5ed96c4",
   "metadata": {},
   "outputs": [
    {
     "data": {
      "text/plain": [
       "<bound method B.__g1 of <__main__.B object at 0x0000020ED12E3970>>"
      ]
     },
     "execution_count": 63,
     "metadata": {},
     "output_type": "execute_result"
    }
   ],
   "source": [
    "b._B__g1"
   ]
  },
  {
   "cell_type": "code",
   "execution_count": 1,
   "id": "4bdc72f0",
   "metadata": {},
   "outputs": [
    {
     "name": "stdout",
     "output_type": "stream",
     "text": [
      "2,3\n"
     ]
    }
   ],
   "source": [
    "class A:\n",
    "    def set(self,x,y):\n",
    "        self.__x = x #public member\n",
    "        self.__y = y #private member\n",
    "    def print(self):\n",
    "        print(\"{},{}\".format(self.x,self.__y))\n",
    "        \n",
    "a = A()\n",
    "a.set(2,3)\n",
    "a.print()"
   ]
  },
  {
   "cell_type": "markdown",
   "id": "8469a19e",
   "metadata": {},
   "source": [
    "# Inheritance:"
   ]
  },
  {
   "cell_type": "code",
   "execution_count": 51,
   "id": "dad2ce91",
   "metadata": {},
   "outputs": [
    {
     "data": {
      "text/plain": [
       "__main__.B"
      ]
     },
     "execution_count": 51,
     "metadata": {},
     "output_type": "execute_result"
    }
   ],
   "source": [
    "class A:\n",
    "    pass\n",
    "class B(A):\n",
    "    pass\n",
    "a=A()\n",
    "b=B()\n",
    "type(a)\n",
    "type(b)"
   ]
  },
  {
   "cell_type": "markdown",
   "id": "25b8b3b4",
   "metadata": {},
   "source": [
    "# Constructor and destructor:"
   ]
  },
  {
   "cell_type": "code",
   "execution_count": 5,
   "id": "36c2eb08",
   "metadata": {},
   "outputs": [],
   "source": [
    "# Inheritance Demo: \n",
    "# Constructors and Destructors\n",
    "class A:\n",
    "    def __init__(self):\n",
    "        print(\"A counstructed\")\n",
    "    def __del__(self):\n",
    "        print(\" A destroyed\")\n",
    "        \n",
    "class B(A):\n",
    "    def __init__(self):\n",
    "        print(\"B contructed\")\n",
    "    def __del__(self):\n",
    "        print(\"B destroyed\")"
   ]
  },
  {
   "cell_type": "code",
   "execution_count": 7,
   "id": "368afc9a",
   "metadata": {},
   "outputs": [
    {
     "name": "stdout",
     "output_type": "stream",
     "text": [
      "A counstructed\n"
     ]
    }
   ],
   "source": [
    "a=A()"
   ]
  },
  {
   "cell_type": "code",
   "execution_count": 9,
   "id": "3fc8ba7d",
   "metadata": {},
   "outputs": [
    {
     "name": "stdout",
     "output_type": "stream",
     "text": [
      " A destroyed\n"
     ]
    }
   ],
   "source": [
    "del(a)"
   ]
  },
  {
   "cell_type": "code",
   "execution_count": 10,
   "id": "ac708c47",
   "metadata": {},
   "outputs": [
    {
     "name": "stdout",
     "output_type": "stream",
     "text": [
      "B contructed\n"
     ]
    }
   ],
   "source": [
    "b=B()"
   ]
  },
  {
   "cell_type": "code",
   "execution_count": 11,
   "id": "839bb3a2",
   "metadata": {},
   "outputs": [
    {
     "name": "stdout",
     "output_type": "stream",
     "text": [
      "B destroyed\n"
     ]
    }
   ],
   "source": [
    "del(b)"
   ]
  },
  {
   "cell_type": "markdown",
   "id": "93ca27cb",
   "metadata": {},
   "source": [
    "# Data hiding"
   ]
  },
  {
   "cell_type": "code",
   "execution_count": 7,
   "id": "2e3e92bf",
   "metadata": {},
   "outputs": [],
   "source": [
    "class Animal:\n",
    "    def __init__(self, eating, drink, sleep):\n",
    "        self.__eating = eating\n",
    "        self.__drink = drink\n",
    "        self.__sleep = sleep"
   ]
  },
  {
   "cell_type": "code",
   "execution_count": 8,
   "id": "c95d28ef",
   "metadata": {},
   "outputs": [],
   "source": [
    "animal=Animal(\"garss\",\"water\",\"in night\")"
   ]
  },
  {
   "cell_type": "code",
   "execution_count": 9,
   "id": "fb91efb7",
   "metadata": {},
   "outputs": [
    {
     "data": {
      "text/plain": [
       "'garss'"
      ]
     },
     "execution_count": 9,
     "metadata": {},
     "output_type": "execute_result"
    }
   ],
   "source": [
    "animal._Animal__eating"
   ]
  },
  {
   "cell_type": "code",
   "execution_count": 12,
   "id": "986cb46e",
   "metadata": {},
   "outputs": [
    {
     "data": {
      "text/plain": [
       "'in night'"
      ]
     },
     "execution_count": 12,
     "metadata": {},
     "output_type": "execute_result"
    }
   ],
   "source": [
    "animal._Animal__sleep"
   ]
  },
  {
   "cell_type": "code",
   "execution_count": 8,
   "id": "4ae23923",
   "metadata": {},
   "outputs": [
    {
     "data": {
      "text/plain": [
       "'water'"
      ]
     },
     "execution_count": 8,
     "metadata": {},
     "output_type": "execute_result"
    }
   ],
   "source": [
    "animal._Animal__drink"
   ]
  },
  {
   "cell_type": "markdown",
   "id": "83f6ee5f",
   "metadata": {},
   "source": [
    "# Simple Inheritance with access specifier:"
   ]
  },
  {
   "cell_type": "code",
   "execution_count": 66,
   "id": "e930bfc6",
   "metadata": {
    "scrolled": true
   },
   "outputs": [
    {
     "name": "stdout",
     "output_type": "stream",
     "text": [
      "inside vehicle class\n",
      "Inside car class\n"
     ]
    }
   ],
   "source": [
    "# Base class\n",
    "class vehicle:\n",
    "    def __vehicle_info(self):#private \n",
    "        print('inside vehicle class')\n",
    "#Child class\n",
    "class car(vehicle):\n",
    "    def _car_info(self):#protected\n",
    "        print('Inside car class')\n",
    "# create object of car\n",
    "car = car()\n",
    "\n",
    "#access vehicle's info using car object\n",
    "car._vehicle__vehicle_info()#private access through name mangling\n",
    "car._car_info()"
   ]
  },
  {
   "cell_type": "markdown",
   "id": "7a59b91c",
   "metadata": {},
   "source": [
    "#  Multiple inheritance function overriding:"
   ]
  },
  {
   "cell_type": "code",
   "execution_count": 1,
   "id": "c0c40284",
   "metadata": {},
   "outputs": [
    {
     "name": "stdout",
     "output_type": "stream",
     "text": [
      "C\n"
     ]
    }
   ],
   "source": [
    "# Inheritance Demo: \n",
    "# Multiple Inheritance - Function Overriding\n",
    "class A:#parent class1\n",
    "    def f(self):\n",
    "        print(\"A\")\n",
    "        \n",
    "class B:#parent class2\n",
    "    def f(self):\n",
    "        print(\"B\")\n",
    "        \n",
    "class C(A,B):#child class\n",
    "    def f(self):\n",
    "        print(\"C\")\n",
    "\n",
    "        \n",
    "c=C()\n",
    "c.f()"
   ]
  },
  {
   "cell_type": "markdown",
   "id": "2acf3ae1",
   "metadata": {},
   "source": [
    "# Multi-level inheritance:"
   ]
  },
  {
   "cell_type": "code",
   "execution_count": 12,
   "id": "2b9765a3",
   "metadata": {},
   "outputs": [
    {
     "name": "stdout",
     "output_type": "stream",
     "text": [
      "Inside vehicle class\n",
      "Incide car class\n",
      "Incide SportCar class\n"
     ]
    }
   ],
   "source": [
    "#Base class\n",
    "class Vehicle:\n",
    "    def Vehicle_info(self):\n",
    "        print('Inside vehicle class')\n",
    "#Child class\n",
    "class Car(Vehicle):\n",
    "    def Car_info(self):\n",
    "        print('Incide car class')\n",
    "#Child Class\n",
    "class SportsCar(Car):\n",
    "    def Sport_car_info(self):\n",
    "        print('Incide SportCar class')\n",
    "#Create object of SportCar\n",
    "s_car = SportsCar()\n",
    "\n",
    "#access vehicle's and car info using SportsCar Object\n",
    "s_car.Vehicle_info()\n",
    "s_car.Car_info()           \n",
    "s_car.Sport_car_info()         "
   ]
  },
  {
   "cell_type": "markdown",
   "id": "619f5cc4",
   "metadata": {},
   "source": [
    "# Multi-level "
   ]
  },
  {
   "cell_type": "code",
   "execution_count": 11,
   "id": "26eeb885",
   "metadata": {},
   "outputs": [
    {
     "name": "stdout",
     "output_type": "stream",
     "text": [
      "person name\n",
      "child class age\n",
      "child class location\n",
      "None None None\n"
     ]
    }
   ],
   "source": [
    "class Parent:\n",
    "    def __init__(self,name):\n",
    "        self.name=name\n",
    "    def nameFind(self):\n",
    "        print(\"person name\")\n",
    "        \n",
    "class Child(Parent):\n",
    "    def __init__(self,name,age):\n",
    "        self.age=age\n",
    "        \n",
    "    def ageFing(self):\n",
    "        print(\"child class age\")\n",
    "        \n",
    "class GrandChild(Child):\n",
    "    def __init__(self,name,age,location):\n",
    "        self.location=location\n",
    "        \n",
    "    def locationFind(self):\n",
    "        print(\"child class location\")\n",
    "        \n",
    "gc=GrandChild(\"farah\",\"twenty years\", \"Bhatta chowk\")\n",
    "print(gc.nameFind(),gc.ageFing(),gc.locationFind())"
   ]
  },
  {
   "cell_type": "markdown",
   "id": "e1cbb7f3",
   "metadata": {},
   "source": [
    "# Multiple Inheritance with Public member"
   ]
  },
  {
   "cell_type": "code",
   "execution_count": 5,
   "id": "dddf5175",
   "metadata": {},
   "outputs": [
    {
     "name": "stdout",
     "output_type": "stream",
     "text": [
      "Incide person class\n",
      "name: farah age: 21\n",
      "Incide company calss\n",
      "name: Google location: Atlanta\n",
      "Incide employee class\n",
      "salary: 30000 skill: Machine Learning\n"
     ]
    }
   ],
   "source": [
    "#Parent class1\n",
    "class Person:\n",
    "    def person_info(self,name,age):\n",
    "        print('Incide person class')\n",
    "        print('name:',name, 'age:',age)\n",
    "#Parent class2\n",
    "class Company:\n",
    "    def company_info(self, company_name, location):\n",
    "        print('Incide company calss')\n",
    "        print('name:', company_name, 'location:', location)  \n",
    "#child class\n",
    "class Employee(Person, Company):\n",
    "    def Employee_info(self, salary, skill):\n",
    "        print('Incide employee class')\n",
    "        print('salary:', salary, 'skill:', skill)\n",
    "        \n",
    "emp=Employee()\n",
    "#access data\n",
    "emp.person_info('farah', 21)\n",
    "emp.company_info('Google', 'Atlanta')\n",
    "emp.Employee_info(30000, 'Machine Learning')"
   ]
  },
  {
   "cell_type": "markdown",
   "id": "7ecc79d1",
   "metadata": {},
   "source": [
    "# Polymorphism:\n",
    "\"same function name can be used for differrent type.\"\n",
    "               or\n",
    "\"It is a ability to perform a single task in different way.\""
   ]
  },
  {
   "cell_type": "code",
   "execution_count": 2,
   "id": "e4a083be",
   "metadata": {},
   "outputs": [
    {
     "name": "stdout",
     "output_type": "stream",
     "text": [
      "Vegetable\n",
      "Red\n",
      "Fruit\n",
      "Red\n"
     ]
    }
   ],
   "source": [
    "#same function name can be used for differrent type\n",
    "class Tomato():\n",
    "    \n",
    "    def type(self):\n",
    "        print(\"Vegetable\")\n",
    "    def color(self):\n",
    "        print(\"Red\")\n",
    "        \n",
    "class Apple():\n",
    "    \n",
    "    def type(self):\n",
    "        print(\"Fruit\")\n",
    "    def color(self):\n",
    "        print(\"Red\")\n",
    "        \n",
    "def func(obj):#different function in single task\n",
    "    obj.type()\n",
    "    obj.color()\n",
    "\n",
    "obj_tomato=Tomato()\n",
    "obj_apple=Apple() \n",
    "func(obj_tomato)\n",
    "func(obj_apple)"
   ]
  },
  {
   "cell_type": "markdown",
   "id": "62b2047c",
   "metadata": {},
   "source": [
    "# Function overloading is an example of Polymorphism:"
   ]
  },
  {
   "cell_type": "code",
   "execution_count": 6,
   "id": "c9720588",
   "metadata": {},
   "outputs": [
    {
     "name": "stdout",
     "output_type": "stream",
     "text": [
      "area of squre 4\n"
     ]
    }
   ],
   "source": [
    "#same function and different parametres\n",
    "class Area:\n",
    "    def Find_area(self,w,h):\n",
    "        print(\"area of rectangular\", w*h)\n",
    "    def Find_area(self,x):\n",
    "        print(\"area of squre\",x*x)\n",
    "object=Area()\n",
    "object.Find_area(2)"
   ]
  },
  {
   "cell_type": "code",
   "execution_count": 7,
   "id": "1898a898",
   "metadata": {},
   "outputs": [
    {
     "name": "stdout",
     "output_type": "stream",
     "text": [
      "nothing\n",
      "area of squre 4\n",
      "area of the rectangular 10\n"
     ]
    }
   ],
   "source": [
    "class Area:\n",
    "    def Find_area(self, a=None, b=None):\n",
    "        if a!=None and b!=None:\n",
    "            print(\"area of the rectangular\", a*b)\n",
    "        elif a!=None:\n",
    "            print(\"area of squre\", a*a)\n",
    "        else:\n",
    "            print(\"nothing\")\n",
    "            \n",
    "obj=Area()\n",
    "obj.Find_area()\n",
    "obj.Find_area(2)\n",
    "obj.Find_area(2,5)"
   ]
  },
  {
   "cell_type": "markdown",
   "id": "a4652963",
   "metadata": {},
   "source": [
    "# Dynamic Polymorphism:\n",
    "\n",
    "Dynamic polymorphism is a mechanism and process in which a call to an overriden method is to resolve at run time rather than compile time.\n",
    "# Example:\n",
    "function overriding is an example of dynamic polymorphism.\n",
    "# MRO:\n",
    "Method Resolation order is a concept used in inheritance.it is a order in which a method is searched for in a class heirarchy and it is specially useful in python because Python supports multiple inheritance."
   ]
  },
  {
   "cell_type": "code",
   "execution_count": 7,
   "id": "6e3195f1",
   "metadata": {},
   "outputs": [
    {
     "name": "stdout",
     "output_type": "stream",
     "text": [
      "Bow WoW!\n"
     ]
    }
   ],
   "source": [
    "# Inheritance Demo: \n",
    "# Dynamic Polymorphism \n",
    "class Animal:\n",
    "    def __init__(self,name):\n",
    "        self.name=name\n",
    "    \n",
    "    def Speak(self):\n",
    "        pass\n",
    "    \n",
    "class Dog(Animal):\n",
    "    def __init__(self):\n",
    "        super().__init__(\"Dog\")\n",
    "        \n",
    "    def Speak(self):\n",
    "        print(\"Bow WoW!\")\n",
    "        \n",
    "class Cat(Animal):\n",
    "    def __init__(self):\n",
    "        super().__init__(\"cat\")\n",
    "    \n",
    "    def speak(self):\n",
    "        print(\"Meow!\")\n",
    "        \n",
    "obj=Dog()\n",
    "obj.Speak()\n",
    "obj1=Cat()\n",
    "obj1.Speak()\n",
    "obj2=Cat()\n",
    "obj2.Speak()"
   ]
  },
  {
   "cell_type": "markdown",
   "id": "36cddbb4",
   "metadata": {},
   "source": [
    "# Function Overriding"
   ]
  },
  {
   "cell_type": "code",
   "execution_count": 2,
   "id": "066f5c31",
   "metadata": {},
   "outputs": [
    {
     "data": {
      "text/plain": [
       "<bound method A.f of <__main__.A object at 0x000001BD43333FA0>>"
      ]
     },
     "execution_count": 2,
     "metadata": {},
     "output_type": "execute_result"
    }
   ],
   "source": [
    "# Inheritance Demo: \n",
    "# Function Overriding \n",
    "class A:\n",
    "    def f(self ,s):\n",
    "        print(\"A.f\")\n",
    "        \n",
    "class B(A):\n",
    "    def f(self,s):\n",
    "        print(\"B.f\")\n",
    "a=A()\n",
    "a.f"
   ]
  },
  {
   "cell_type": "markdown",
   "id": "5d091ba9",
   "metadata": {},
   "source": [
    "# Static Polymorpism:\n",
    "Static Polymorphism is the linking of a function with an object during compile time is called static. It is also called static binding. C# provides two techniques to implement static polymorphism i.e. Function overloading and Operator overloading."
   ]
  },
  {
   "cell_type": "markdown",
   "id": "d5ea162e",
   "metadata": {},
   "source": [
    "# Function over loading: "
   ]
  },
  {
   "cell_type": "code",
   "execution_count": 10,
   "id": "6c73f0a1",
   "metadata": {},
   "outputs": [
    {
     "name": "stdout",
     "output_type": "stream",
     "text": [
      "nothing\n",
      "area of squre 4\n"
     ]
    }
   ],
   "source": [
    "class Area:\n",
    "    def Find_area(self,a=None, b=None):\n",
    "        if a!=None and b!=None:\n",
    "            print(\"area of the rectangular\",w*h)\n",
    "        elif a!=None:\n",
    "            print(\"area of squre\",a*a)\n",
    "        else:\n",
    "            print(\"nothing\")\n",
    "obj=Area()\n",
    "obj.Find_area()\n",
    "obj.Find_area(2)"
   ]
  },
  {
   "cell_type": "markdown",
   "id": "38236a45",
   "metadata": {},
   "source": [
    "#  Opretor over loading:"
   ]
  },
  {
   "cell_type": "code",
   "execution_count": 1,
   "id": "e9510883",
   "metadata": {},
   "outputs": [
    {
     "name": "stdout",
     "output_type": "stream",
     "text": [
      "25\n"
     ]
    }
   ],
   "source": [
    "a = 12\n",
    "b = 13\n",
    "print(12+13)"
   ]
  },
  {
   "cell_type": "code",
   "execution_count": 2,
   "id": "a314d435",
   "metadata": {},
   "outputs": [
    {
     "name": "stdout",
     "output_type": "stream",
     "text": [
      "25\n"
     ]
    }
   ],
   "source": [
    "a = 12\n",
    "b = 13\n",
    "print(a.__add__(b))"
   ]
  },
  {
   "cell_type": "code",
   "execution_count": 3,
   "id": "9b01f9cf",
   "metadata": {},
   "outputs": [
    {
     "name": "stdout",
     "output_type": "stream",
     "text": [
      "iqrasidra\n"
     ]
    }
   ],
   "source": [
    "a = \"iqra\"\n",
    "b = \"sidra\"\n",
    "print(a.__add__(b))"
   ]
  },
  {
   "cell_type": "markdown",
   "id": "46d45174",
   "metadata": {},
   "source": [
    "#  Empty class:"
   ]
  },
  {
   "cell_type": "code",
   "execution_count": 8,
   "id": "b952cdce",
   "metadata": {},
   "outputs": [],
   "source": [
    "class Animal:\n",
    "     pass\n",
    "class Dog(Animal):\n",
    "    pass"
   ]
  },
  {
   "cell_type": "markdown",
   "id": "0c5119af",
   "metadata": {},
   "source": [
    "#  Abstract Class:"
   ]
  },
  {
   "cell_type": "code",
   "execution_count": 25,
   "id": "e2952a84",
   "metadata": {},
   "outputs": [
    {
     "name": "stdout",
     "output_type": "stream",
     "text": [
      "i can crawl\n",
      "i can bark\n",
      "i can roar\n"
     ]
    }
   ],
   "source": [
    "# Python program showing\n",
    "# abstract base class work\n",
    "from abc import ABC,abstractmethod\n",
    "class Animal(ABC):\n",
    "\n",
    "    def move(self):#function overriding\n",
    "        pass\n",
    "class Snake(Animal):\n",
    "    \n",
    "    def move(self):#function overriding\n",
    "        print(\"i can crawl\")\n",
    "        \n",
    "class Dog(Animal):\n",
    "\n",
    "    def move(self):#function overriding\n",
    "        print(\"i can bark\")\n",
    "        \n",
    "class Lion(Animal):\n",
    "    \n",
    "    def move(self):#function overriding\n",
    "        print(\"i can roar\")\n",
    "        \n",
    "#Drive code\n",
    "r=Animal()\n",
    "r.move()\n",
    "\n",
    "r1=Snake()\n",
    "r1.move()\n",
    "\n",
    "r2=Dog()\n",
    "r2.move()\n",
    "\n",
    "r3=Lion()\n",
    "r3.move()"
   ]
  },
  {
   "cell_type": "markdown",
   "id": "0b86a460",
   "metadata": {},
   "source": [
    "# Data class"
   ]
  },
  {
   "cell_type": "code",
   "execution_count": 13,
   "id": "429a436d",
   "metadata": {},
   "outputs": [
    {
     "name": "stdout",
     "output_type": "stream",
     "text": [
      "coordinate(x=4, Y=5, z=8)\n"
     ]
    }
   ],
   "source": [
    "from dataclasses import dataclass \n",
    "@dataclass\n",
    "class coordinate:\n",
    "    x: int\n",
    "    Y: int\n",
    "    z: int\n",
    "        \n",
    "a = coordinate(4,5,8)\n",
    "print(a)"
   ]
  }
 ],
 "metadata": {
  "kernelspec": {
   "display_name": "Python 3",
   "language": "python",
   "name": "python3"
  },
  "language_info": {
   "codemirror_mode": {
    "name": "ipython",
    "version": 3
   },
   "file_extension": ".py",
   "mimetype": "text/x-python",
   "name": "python",
   "nbconvert_exporter": "python",
   "pygments_lexer": "ipython3",
   "version": "3.8.8"
  }
 },
 "nbformat": 4,
 "nbformat_minor": 5
}
